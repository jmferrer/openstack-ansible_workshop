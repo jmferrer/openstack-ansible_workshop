{
 "cells": [
  {
   "cell_type": "markdown",
   "metadata": {
    "slideshow": {
     "slide_type": "slide"
    }
   },
   "source": [
    "# OpenStack & OpenShift\n",
    "#    SysDev's best friends!\n",
    "<img src=\"openstack+openshift.png\">"
   ]
  },
  {
   "cell_type": "markdown",
   "metadata": {
    "slideshow": {
     "slide_type": "slide"
    }
   },
   "source": [
    "## OpenStack"
   ]
  },
  {
   "cell_type": "markdown",
   "metadata": {
    "slideshow": {
     "slide_type": "fragment"
    }
   },
   "source": [
    "1.- ¿Qué es OpenStack?"
   ]
  },
  {
   "cell_type": "markdown",
   "metadata": {
    "slideshow": {
     "slide_type": "fragment"
    }
   },
   "source": [
    "2.- Despliegue de OpenStack"
   ]
  },
  {
   "cell_type": "markdown",
   "metadata": {
    "slideshow": {
     "slide_type": "fragment"
    }
   },
   "source": [
    "3.- Ahora en serio ¿Qué es OpenStack?"
   ]
  },
  {
   "cell_type": "markdown",
   "metadata": {
    "slideshow": {
     "slide_type": "fragment"
    }
   },
   "source": [
    "4.- Si es tan bueno ¿porque nadie lo usa?"
   ]
  },
  {
   "cell_type": "markdown",
   "metadata": {
    "slideshow": {
     "slide_type": "fragment"
    }
   },
   "source": [
    "5.- Alternativas de despliegue"
   ]
  },
  {
   "cell_type": "markdown",
   "metadata": {
    "slideshow": {
     "slide_type": "fragment"
    }
   },
   "source": [
    "6.- Despliegue de aplicación"
   ]
  },
  {
   "cell_type": "markdown",
   "metadata": {
    "slideshow": {
     "slide_type": "slide"
    }
   },
   "source": [
    "## ¿Qué es OpenStack?\n",
    "Nos permite proporcionar una infraestructura como servicio.\n",
    "\n",
    "Por ejemplo, nos permite hacer la misma funcionalidad de cualquier sistema de virtualización. :-D"
   ]
  },
  {
   "cell_type": "markdown",
   "metadata": {
    "slideshow": {
     "slide_type": "slide"
    }
   },
   "source": [
    "## Despliegue\n"
   ]
  },
  {
   "cell_type": "markdown",
   "metadata": {
    "slideshow": {
     "slide_type": "subslide"
    }
   },
   "source": [
    "### ¿Qué queremos?\n",
    "* rápido\n",
    "* sencillo\n",
    "* en cualquier tipo de hardware\n",
    "* sin importar su ubicación física\n",
    "* utilizando un appliance\n",
    "* escalado hardware"
   ]
  },
  {
   "cell_type": "markdown",
   "metadata": {
    "slideshow": {
     "slide_type": "subslide"
    }
   },
   "source": [
    "### ¿Qué necesitamos?\n",
    "* Una sola máquina\n",
    "* 16GB de RAM\n",
    "* Una sola tarjeta de red"
   ]
  },
  {
   "cell_type": "markdown",
   "metadata": {
    "slideshow": {
     "slide_type": "subslide"
    }
   },
   "source": [
    "### ansible-openstack-vcenter\n",
    "Instrucciones extraídas de: https://github.com/paradigmadigital/ansible-openstack-vcenter\n",
    "\n",
    "1. Instalar paquetes necesarios:\n",
    "```\n",
    "apt-get install qemu-kvm qemu-system bridge-utils virt-manager\n",
    "```\n",
    "\n",
    "2. Descargar y descomprimir appliance:\n",
    "```\n",
    "/etc/init.d/libvirt-bin stop\n",
    "cd /var/lib/libvirt/images\n",
    "wget http://elmanytas.es/filesblog/informatica/virtualizacion/20161102-OpenStack/openstack-vcenter.tgz\n",
    "tar -zxvf openstack-vcenter.tgz\n",
    "cp etc/libvirt/qemu/openstack-vcenter.xml /etc/libvirt/qemu/\n",
    "service libvirt-bin start\n",
    "```\n",
    "3. Arrancar el appliance con virt-manager y entrar con openstack/openstack\n",
    "\n",
    "4. Instalar openssh\n",
    "```\n",
    "apt-get -y install openssh-server\n",
    "```\n",
    "5. Crear claves y distribuirlas al usuario root de todos los nodos de computación\n",
    "```\n",
    "ssh-keygen\n",
    "```\n",
    "6. Comprobar que los hosts en /home/openstack/ansible-openstack-vcenter/etc_ansible/hosts están bien, cambiar global_vars.yml y:\n",
    "```\n",
    "ansible-playbook -i hosts site.yml\n",
    "```"
   ]
  },
  {
   "cell_type": "markdown",
   "metadata": {
    "slideshow": {
     "slide_type": "slide"
    }
   },
   "source": [
    "### Alternativas de despliegue\n"
   ]
  },
  {
   "cell_type": "markdown",
   "metadata": {
    "slideshow": {
     "slide_type": "subslide"
    }
   },
   "source": [
    "#### RedHat: RDO\n",
    "<img src=\"rdo-logo.png\">\n",
    "https://www.rdoproject.org/"
   ]
  },
  {
   "cell_type": "markdown",
   "metadata": {
    "slideshow": {
     "slide_type": "subslide"
    }
   },
   "source": [
    "#### Ubuntu: MAAS\n",
    "<img src=\"maas-logo.png\">\n",
    "http://maas.io/"
   ]
  },
  {
   "cell_type": "markdown",
   "metadata": {
    "slideshow": {
     "slide_type": "subslide"
    }
   },
   "source": [
    "#### Mirantis: Fuel\n",
    "<img src=\"fuel-for-openstack-logo.png\">\n",
    "https://www.mirantis.com/products/mirantis-openstack-software/"
   ]
  },
  {
   "cell_type": "markdown",
   "metadata": {
    "slideshow": {
     "slide_type": "subslide"
    }
   },
   "source": [
    "#### HP: Helion\n",
    "<img src=\"hp_helion.png\">\n",
    "http://www8.hp.com/us/en/cloud/hphelion-openstack.html\n"
   ]
  },
  {
   "cell_type": "markdown",
   "metadata": {
    "slideshow": {
     "slide_type": "subslide"
    }
   },
   "source": [
    "#### DevStack\n",
    "<img src=\"devstack-logo-blue.png\">\n",
    "http://docs.openstack.org/developer/devstack/"
   ]
  },
  {
   "cell_type": "markdown",
   "metadata": {
    "slideshow": {
     "slide_type": "subslide"
    }
   },
   "source": [
    "#### Custom\n",
    "* Ansible\n",
    "* Puppet\n",
    "* Chef\n",
    "* Manual"
   ]
  },
  {
   "cell_type": "markdown",
   "metadata": {
    "slideshow": {
     "slide_type": "subslide"
    }
   },
   "source": [
    "# Otras que seguro que no conozco\n",
    "# ¡Cuidado con los impostores!"
   ]
  },
  {
   "cell_type": "markdown",
   "metadata": {
    "slideshow": {
     "slide_type": "slide"
    }
   },
   "source": [
    "## Ahora en serio ¿Qué es OpenStack?"
   ]
  },
  {
   "cell_type": "markdown",
   "metadata": {
    "slideshow": {
     "slide_type": "subslide"
    }
   },
   "source": [
    "Nos permite proporcionar una infraestructura como servicio a través de un API Rest.\n",
    "\n",
    "http://developer.openstack.org/api-guide/quick-start/index.html"
   ]
  },
  {
   "cell_type": "markdown",
   "metadata": {
    "slideshow": {
     "slide_type": "subslide"
    }
   },
   "source": [
    "### Servicios de infraestructura\n",
    "* identidad (keystone)"
   ]
  },
  {
   "cell_type": "markdown",
   "metadata": {
    "slideshow": {
     "slide_type": "fragment"
    }
   },
   "source": [
    "* DNS (designate)"
   ]
  },
  {
   "cell_type": "markdown",
   "metadata": {
    "slideshow": {
     "slide_type": "fragment"
    }
   },
   "source": [
    "* almacenamiento compartido (manila)"
   ]
  },
  {
   "cell_type": "markdown",
   "metadata": {
    "slideshow": {
     "slide_type": "fragment"
    }
   },
   "source": [
    "* archivos (swift)"
   ]
  },
  {
   "cell_type": "markdown",
   "metadata": {
    "slideshow": {
     "slide_type": "fragment"
    }
   },
   "source": [
    "* bases de datos (trove)"
   ]
  },
  {
   "cell_type": "markdown",
   "metadata": {
    "slideshow": {
     "slide_type": "fragment"
    }
   },
   "source": [
    "* vpn (neutron)"
   ]
  },
  {
   "cell_type": "markdown",
   "metadata": {
    "slideshow": {
     "slide_type": "fragment"
    }
   },
   "source": [
    "* orquestación (heat)"
   ]
  },
  {
   "cell_type": "markdown",
   "metadata": {
    "slideshow": {
     "slide_type": "fragment"
    }
   },
   "source": [
    "* redes (neutron)"
   ]
  },
  {
   "cell_type": "markdown",
   "metadata": {
    "slideshow": {
     "slide_type": "fragment"
    }
   },
   "source": [
    "* servidores físicos (ironic)"
   ]
  },
  {
   "cell_type": "markdown",
   "metadata": {
    "slideshow": {
     "slide_type": "fragment"
    }
   },
   "source": [
    "* imágenes (glance)"
   ]
  },
  {
   "cell_type": "markdown",
   "metadata": {
    "slideshow": {
     "slide_type": "fragment"
    }
   },
   "source": [
    "* dispositivos de bloques (cinder)"
   ]
  },
  {
   "cell_type": "markdown",
   "metadata": {
    "slideshow": {
     "slide_type": "fragment"
    }
   },
   "source": [
    "* colas (zaqar)"
   ]
  },
  {
   "cell_type": "markdown",
   "metadata": {
    "slideshow": {
     "slide_type": "fragment"
    }
   },
   "source": [
    "* procesamiento de datos (sahara)"
   ]
  },
  {
   "cell_type": "markdown",
   "metadata": {
    "slideshow": {
     "slide_type": "fragment"
    }
   },
   "source": [
    "* ..."
   ]
  },
  {
   "cell_type": "markdown",
   "metadata": {
    "slideshow": {
     "slide_type": "fragment"
    }
   },
   "source": [
    "* y también máquinas virtuales (nova)"
   ]
  },
  {
   "cell_type": "markdown",
   "metadata": {
    "slideshow": {
     "slide_type": "subslide"
    }
   },
   "source": [
    "### Be cloud!\n",
    "Puede sustituir a nuestro sistema de virtualización pero ¡cambiarlo no tiene porqué ser motivo suficiente para usar OpenStack!"
   ]
  },
  {
   "cell_type": "markdown",
   "metadata": {
    "slideshow": {
     "slide_type": "fragment"
    }
   },
   "source": [
    "Permite:\n",
    "* agilizar nuestro proceso de desarrollo"
   ]
  },
  {
   "cell_type": "markdown",
   "metadata": {
    "slideshow": {
     "slide_type": "fragment"
    }
   },
   "source": [
    "* saber cuanto gasta cada proyecto"
   ]
  },
  {
   "cell_type": "markdown",
   "metadata": {
    "slideshow": {
     "slide_type": "fragment"
    }
   },
   "source": [
    "* extremadamente síncrono"
   ]
  },
  {
   "cell_type": "markdown",
   "metadata": {
    "slideshow": {
     "slide_type": "fragment"
    }
   },
   "source": [
    "* no expuesto a fallos humanos imprevisibles"
   ]
  },
  {
   "cell_type": "markdown",
   "metadata": {
    "slideshow": {
     "slide_type": "fragment"
    }
   },
   "source": [
    "* abstracción de servicios"
   ]
  },
  {
   "cell_type": "markdown",
   "metadata": {
    "slideshow": {
     "slide_type": "fragment"
    }
   },
   "source": [
    "* automatización"
   ]
  },
  {
   "cell_type": "markdown",
   "metadata": {
    "slideshow": {
     "slide_type": "fragment"
    }
   },
   "source": [
    "* ...\n",
    "* be cloud!"
   ]
  },
  {
   "cell_type": "markdown",
   "metadata": {
    "slideshow": {
     "slide_type": "slide"
    }
   },
   "source": [
    "## Ejemplo de despliegue\n",
    "Esquema de aplicación (drupal):\n",
    "* aplicación\n",
    "* persistencia\n",
    "* base de datos\n",
    "<img src=\"arquitectura_drupal.png\">"
   ]
  },
  {
   "cell_type": "markdown",
   "metadata": {
    "slideshow": {
     "slide_type": "subslide"
    }
   },
   "source": [
    "### Volúmenes persistentes\n",
    "Deberíamos usar manila pero no lo tengo desplegado así que vamos a usar un servidor de NFS.\n",
    "\n",
    "Ejecutamos:\n",
    "```\n",
    "heat stack-create test --template-file=nfs-server-heat-template.yaml\n",
    "```\n",
    "<img src=\"persistencia_openstack.png\">"
   ]
  },
  {
   "cell_type": "markdown",
   "metadata": {
    "slideshow": {
     "slide_type": "subslide"
    }
   },
   "source": [
    "### Base de datos\n",
    "Deberíamos usar trove pero no lo tengo desplegado así que vamos a usar:\n",
    "* cluster de Percona\n",
    "* balanceador tcp al 3306\n",
    "\n",
    "Ejecutamos:\n",
    "```\n",
    "heat stack-create test --template-file=percona-heat-template.yaml\n",
    "```\n",
    "<img src=\"database_openstack.png\">"
   ]
  },
  {
   "cell_type": "markdown",
   "metadata": {
    "slideshow": {
     "slide_type": "subslide"
    }
   },
   "source": [
    "### Drupal\n",
    "Tres servidores con Drupal pasando como parámetros:\n",
    "* cluster Percona\n",
    "* /var/www.html/drupal/sites/default\n",
    "* balanceador tcp al 80\n",
    "\n",
    "Ejecutamos:\n",
    "```\n",
    "heat stack-create test --template-file=drupal-heat-template.yaml\n",
    "```\n",
    "<img src=\"drupal_openstack.png\">"
   ]
  },
  {
   "cell_type": "markdown",
   "metadata": {
    "slideshow": {
     "slide_type": "slide"
    }
   },
   "source": [
    "## Si es tan bueno ¿porqué nadie lo usa?"
   ]
  },
  {
   "cell_type": "markdown",
   "metadata": {
    "slideshow": {
     "slide_type": "subslide"
    }
   },
   "source": [
    "### Inercia\n",
    "Tenemos unos procedimientos que están adaptados a una infraestructura no cloud.\n",
    "\n",
    "<img src=\"mascota.jpeg\">\n",
    "\n",
    "Tratamos a nuestros componentes como mascotas. Sabemos de que hay que hacer backup, que hay que monitorizar, que tienen instalado, ...\n"
   ]
  },
  {
   "cell_type": "markdown",
   "metadata": {
    "slideshow": {
     "slide_type": "subslide"
    }
   },
   "source": [
    "### Inercia\n",
    "¿Pero como gestionamos todas estas mascotas?\n",
    "\n",
    "<img src=\"101-Dalmatas.jpg\">\n",
    "\n",
    "¿Contratamos a un ejército de personas que les pongan nombre, las instalen, decidan de que hacer backup, que monitorizar, ...?"
   ]
  },
  {
   "cell_type": "markdown",
   "metadata": {},
   "source": [
    "### Inercia\n",
    "Si las tratamos como un rebaño solo hará falta un pastor\n",
    "<img src=\"rebanyo-ovejas.jpg\">"
   ]
  },
  {
   "cell_type": "markdown",
   "metadata": {
    "slideshow": {
     "slide_type": "subslide"
    }
   },
   "source": [
    "### Inversión\n",
    "“Hemos invertido muchos miles de euros en licencias y queremos amortizar nuestra inversión”.\n",
    "Si metemos la palabra “enterprise” dentro de la frase seguro que queda más guay ¿Licencias de Tecnología Enterprise?\n",
    "\n",
    "¿Que tal así?\n",
    "“Hemos realizado una gran inversión en Licencias de la Tecnología Enterprise líder en el mercado de la Virtualización cuyo periodo de amortización finaliza en 5 años.”"
   ]
  },
  {
   "cell_type": "markdown",
   "metadata": {
    "slideshow": {
     "slide_type": "fragment"
    }
   },
   "source": [
    "#### SOLUCIÓN\n",
    "¡OPENSTACK NO ES UN SISTEMA DE VIRTUALIZACIÓN!\n",
    "Sigue usando tu sistema de virtualización preferido y deja que lo gestione OpenStack así como el resto de tu infraestructura.\n"
   ]
  }
 ],
 "metadata": {
  "celltoolbar": "Slideshow",
  "kernelspec": {
   "display_name": "Python 2",
   "language": "python",
   "name": "python2"
  },
  "language_info": {
   "codemirror_mode": {
    "name": "ipython",
    "version": 2
   },
   "file_extension": ".py",
   "mimetype": "text/x-python",
   "name": "python",
   "nbconvert_exporter": "python",
   "pygments_lexer": "ipython2",
   "version": "2.7.12"
  }
 },
 "nbformat": 4,
 "nbformat_minor": 1
}
