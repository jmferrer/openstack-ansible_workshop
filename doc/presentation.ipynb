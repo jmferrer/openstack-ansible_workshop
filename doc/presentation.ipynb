{
 "cells": [
  {
   "cell_type": "markdown",
   "metadata": {
    "slideshow": {
     "slide_type": "slide"
    }
   },
   "source": [
    "# OpenStack & OpenShift\n",
    "#    SysDev's best friends!\n",
    "<img src=\"openstack+openshift.png\">"
   ]
  },
  {
   "cell_type": "markdown",
   "metadata": {
    "slideshow": {
     "slide_type": "slide"
    }
   },
   "source": [
    "## OpenStack"
   ]
  },
  {
   "cell_type": "markdown",
   "metadata": {
    "slideshow": {
     "slide_type": "fragment"
    }
   },
   "source": [
    "1.- ¿Qué es OpenStack?"
   ]
  },
  {
   "cell_type": "markdown",
   "metadata": {
    "slideshow": {
     "slide_type": "fragment"
    }
   },
   "source": [
    "2.- Despliegue de OpenStack"
   ]
  },
  {
   "cell_type": "markdown",
   "metadata": {
    "slideshow": {
     "slide_type": "fragment"
    }
   },
   "source": [
    "3.- Ahora en serio ¿Qué es OpenStack?"
   ]
  },
  {
   "cell_type": "markdown",
   "metadata": {
    "slideshow": {
     "slide_type": "fragment"
    }
   },
   "source": [
    "4.- Si es tan bueno ¿porque nadie lo usa?"
   ]
  },
  {
   "cell_type": "markdown",
   "metadata": {
    "slideshow": {
     "slide_type": "fragment"
    }
   },
   "source": [
    "5.- Alternativas de despliegue"
   ]
  },
  {
   "cell_type": "markdown",
   "metadata": {
    "slideshow": {
     "slide_type": "fragment"
    }
   },
   "source": [
    "6.- Despliegue de aplicación"
   ]
  },
  {
   "cell_type": "markdown",
   "metadata": {
    "slideshow": {
     "slide_type": "slide"
    }
   },
   "source": [
    "## ¿Qué es OpenStack?\n",
    "Nos permite proporcionar una infraestructura como servicio.\n",
    "\n",
    "Por ejemplo, nos permite hacer la misma funcionalidad de cualquier sistema de virtualización. :-D"
   ]
  },
  {
   "cell_type": "markdown",
   "metadata": {
    "slideshow": {
     "slide_type": "slide"
    }
   },
   "source": [
    "## Despliegue\n"
   ]
  },
  {
   "cell_type": "markdown",
   "metadata": {
    "slideshow": {
     "slide_type": "subslide"
    }
   },
   "source": [
    "### ¿Qué queremos?\n",
    "* rápido\n",
    "* sencillo\n",
    "* en cualquier tipo de hardware\n",
    "* sin importar su ubicación física\n",
    "* utilizando un appliance\n",
    "* escalado hardware"
   ]
  },
  {
   "cell_type": "markdown",
   "metadata": {
    "slideshow": {
     "slide_type": "subslide"
    }
   },
   "source": [
    "### ¿Qué necesitamos?\n",
    "* Una sola máquina\n",
    "* 16GB de RAM\n",
    "* Una sola tarjeta de red"
   ]
  },
  {
   "cell_type": "markdown",
   "metadata": {
    "slideshow": {
     "slide_type": "subslide"
    }
   },
   "source": [
    "### ansible-openstack-vcenter\n",
    "Instrucciones extraídas de: https://github.com/paradigmadigital/ansible-openstack-vcenter\n",
    "\n",
    "1. Instalar paquetes necesarios:\n",
    "```\n",
    "apt-get install qemu-kvm qemu-system bridge-utils virt-manager\n",
    "```\n",
    "\n",
    "2. Descargar y descomprimir appliance:\n",
    "```\n",
    "/etc/init.d/libvirt-bin stop\n",
    "cd /var/lib/libvirt/images\n",
    "wget http://elmanytas.es/filesblog/informatica/virtualizacion/20161102-OpenStack/openstack-vcenter.tgz\n",
    "tar -zxvf openstack-vcenter.tgz\n",
    "cp etc/libvirt/qemu/openstack-vcenter.xml /etc/libvirt/qemu/\n",
    "service libvirt-bin start\n",
    "```\n",
    "3. Arrancar el appliance con virt-manager y entrar con openstack/openstack\n",
    "\n",
    "4. Instalar openssh\n",
    "```\n",
    "apt-get -y install openssh-server\n",
    "```\n",
    "5. Crear claves y distribuirlas al usuario root de todos los nodos de computación\n",
    "```\n",
    "ssh-keygen\n",
    "```\n",
    "6. Comprobar que los hosts en /home/openstack/ansible-openstack-vcenter/etc_ansible/hosts están bien, cambiar global_vars.yml y:\n",
    "```\n",
    "ansible-playbook -i hosts site.yml\n",
    "```"
   ]
  },
  {
   "cell_type": "markdown",
   "metadata": {
    "slideshow": {
     "slide_type": "slide"
    }
   },
   "source": [
    "### Alternativas de despliegue\n"
   ]
  },
  {
   "cell_type": "markdown",
   "metadata": {
    "slideshow": {
     "slide_type": "subslide"
    }
   },
   "source": [
    "#### RedHat: RDO\n",
    "<img src=\"rdo-logo.png\">\n",
    "https://www.rdoproject.org/"
   ]
  },
  {
   "cell_type": "markdown",
   "metadata": {
    "slideshow": {
     "slide_type": "subslide"
    }
   },
   "source": [
    "#### Ubuntu: MAAS\n",
    "<img src=\"maas-logo.png\">\n",
    "http://maas.io/"
   ]
  },
  {
   "cell_type": "markdown",
   "metadata": {
    "slideshow": {
     "slide_type": "subslide"
    }
   },
   "source": [
    "#### Mirantis: Fuel\n",
    "<img src=\"fuel-for-openstack-logo.png\">\n",
    "https://www.mirantis.com/products/mirantis-openstack-software/"
   ]
  },
  {
   "cell_type": "markdown",
   "metadata": {
    "slideshow": {
     "slide_type": "subslide"
    }
   },
   "source": [
    "#### HP: Helion\n",
    "<img src=\"hp_helion.png\">\n",
    "http://www8.hp.com/us/en/cloud/hphelion-openstack.html\n"
   ]
  },
  {
   "cell_type": "markdown",
   "metadata": {
    "slideshow": {
     "slide_type": "subslide"
    }
   },
   "source": [
    "#### DevStack\n",
    "<img src=\"devstack-logo-blue.png\">\n",
    "http://docs.openstack.org/developer/devstack/"
   ]
  },
  {
   "cell_type": "markdown",
   "metadata": {
    "slideshow": {
     "slide_type": "subslide"
    }
   },
   "source": [
    "#### Custom\n",
    "* Ansible\n",
    "* Puppet\n",
    "* Chef\n",
    "* Manual"
   ]
  },
  {
   "cell_type": "markdown",
   "metadata": {
    "slideshow": {
     "slide_type": "subslide"
    }
   },
   "source": [
    "# Otras que seguro que no conozco\n",
    "# ¡Cuidado con los impostores!"
   ]
  },
  {
   "cell_type": "markdown",
   "metadata": {
    "slideshow": {
     "slide_type": "slide"
    }
   },
   "source": [
    "## Ahora en serio ¿Qué es OpenStack?"
   ]
  },
  {
   "cell_type": "markdown",
   "metadata": {
    "slideshow": {
     "slide_type": "subslide"
    }
   },
   "source": [
    "Nos permite proporcionar una infraestructura como servicio a través de un API Rest.\n",
    "\n",
    "http://developer.openstack.org/api-guide/quick-start/index.html"
   ]
  },
  {
   "cell_type": "markdown",
   "metadata": {
    "slideshow": {
     "slide_type": "subslide"
    }
   },
   "source": [
    "### Servicios de infraestructura\n",
    "* identidad (keystone)"
   ]
  },
  {
   "cell_type": "markdown",
   "metadata": {
    "slideshow": {
     "slide_type": "fragment"
    }
   },
   "source": [
    "* DNS (designate)"
   ]
  },
  {
   "cell_type": "markdown",
   "metadata": {
    "slideshow": {
     "slide_type": "fragment"
    }
   },
   "source": [
    "* almacenamiento compartido (manila)"
   ]
  },
  {
   "cell_type": "markdown",
   "metadata": {
    "slideshow": {
     "slide_type": "fragment"
    }
   },
   "source": [
    "* archivos (swift)"
   ]
  },
  {
   "cell_type": "markdown",
   "metadata": {
    "slideshow": {
     "slide_type": "fragment"
    }
   },
   "source": [
    "* bases de datos (trove)"
   ]
  },
  {
   "cell_type": "markdown",
   "metadata": {
    "slideshow": {
     "slide_type": "fragment"
    }
   },
   "source": [
    "* vpn (neutron)"
   ]
  },
  {
   "cell_type": "markdown",
   "metadata": {
    "slideshow": {
     "slide_type": "fragment"
    }
   },
   "source": [
    "* orquestación (heat)"
   ]
  },
  {
   "cell_type": "markdown",
   "metadata": {
    "slideshow": {
     "slide_type": "fragment"
    }
   },
   "source": [
    "* redes (neutron)"
   ]
  },
  {
   "cell_type": "markdown",
   "metadata": {
    "slideshow": {
     "slide_type": "fragment"
    }
   },
   "source": [
    "* servidores físicos (ironic)"
   ]
  },
  {
   "cell_type": "markdown",
   "metadata": {
    "slideshow": {
     "slide_type": "fragment"
    }
   },
   "source": [
    "* imágenes (glance)"
   ]
  },
  {
   "cell_type": "markdown",
   "metadata": {
    "slideshow": {
     "slide_type": "fragment"
    }
   },
   "source": [
    "* dispositivos de bloques (cinder)"
   ]
  },
  {
   "cell_type": "markdown",
   "metadata": {
    "slideshow": {
     "slide_type": "fragment"
    }
   },
   "source": [
    "* colas (zaqar)"
   ]
  },
  {
   "cell_type": "markdown",
   "metadata": {
    "slideshow": {
     "slide_type": "fragment"
    }
   },
   "source": [
    "* procesamiento de datos (sahara)"
   ]
  },
  {
   "cell_type": "markdown",
   "metadata": {
    "slideshow": {
     "slide_type": "fragment"
    }
   },
   "source": [
    "* ..."
   ]
  },
  {
   "cell_type": "markdown",
   "metadata": {
    "slideshow": {
     "slide_type": "fragment"
    }
   },
   "source": [
    "* y también máquinas virtuales (nova)"
   ]
  },
  {
   "cell_type": "markdown",
   "metadata": {
    "slideshow": {
     "slide_type": "subslide"
    }
   },
   "source": [
    "### Be cloud!\n",
    "Puede sustituir a nuestro sistema de virtualización pero ¡cambiarlo no tiene porqué ser motivo suficiente para usar OpenStack!"
   ]
  },
  {
   "cell_type": "markdown",
   "metadata": {
    "slideshow": {
     "slide_type": "fragment"
    }
   },
   "source": [
    "Permite:\n",
    "* agilizar nuestro proceso de desarrollo"
   ]
  },
  {
   "cell_type": "markdown",
   "metadata": {
    "slideshow": {
     "slide_type": "fragment"
    }
   },
   "source": [
    "* saber cuanto gasta cada proyecto"
   ]
  },
  {
   "cell_type": "markdown",
   "metadata": {
    "slideshow": {
     "slide_type": "fragment"
    }
   },
   "source": [
    "* extremadamente síncrono"
   ]
  },
  {
   "cell_type": "markdown",
   "metadata": {
    "slideshow": {
     "slide_type": "fragment"
    }
   },
   "source": [
    "* no expuesto a fallos humanos imprevisibles"
   ]
  },
  {
   "cell_type": "markdown",
   "metadata": {
    "slideshow": {
     "slide_type": "fragment"
    }
   },
   "source": [
    "* abstracción de servicios"
   ]
  },
  {
   "cell_type": "markdown",
   "metadata": {
    "slideshow": {
     "slide_type": "fragment"
    }
   },
   "source": [
    "* automatización"
   ]
  },
  {
   "cell_type": "markdown",
   "metadata": {
    "slideshow": {
     "slide_type": "fragment"
    }
   },
   "source": [
    "* ...\n",
    "* be cloud!"
   ]
  },
  {
   "cell_type": "markdown",
   "metadata": {
    "slideshow": {
     "slide_type": "slide"
    }
   },
   "source": [
    "## Ejemplo de despliegue\n",
    "Esquema de aplicación (drupal):\n",
    "* aplicación\n",
    "* persistencia\n",
    "* base de datos\n",
    "<img src=\"arquitectura_drupal.png\">"
   ]
  },
  {
   "cell_type": "markdown",
   "metadata": {
    "slideshow": {
     "slide_type": "subslide"
    }
   },
   "source": [
    "### Volúmenes persistentes\n",
    "Deberíamos usar manila pero no lo tengo desplegado así que vamos a usar un servidor de NFS.\n",
    "\n",
    "Ejecutamos:\n",
    "```\n",
    "heat stack-create test --template-file=nfs-server-heat-template.yaml\n",
    "```\n",
    "<img src=\"persistencia_openstack.png\">"
   ]
  },
  {
   "cell_type": "markdown",
   "metadata": {
    "slideshow": {
     "slide_type": "subslide"
    }
   },
   "source": [
    "### Base de datos\n",
    "Deberíamos usar trove pero no lo tengo desplegado así que vamos a usar:\n",
    "* cluster de Percona\n",
    "* balanceador tcp al 3306\n",
    "\n",
    "Ejecutamos:\n",
    "```\n",
    "heat stack-create test --template-file=percona-heat-template.yaml\n",
    "```\n",
    "<img src=\"database_openstack.png\">"
   ]
  },
  {
   "cell_type": "markdown",
   "metadata": {
    "slideshow": {
     "slide_type": "subslide"
    }
   },
   "source": [
    "### Drupal\n",
    "Tres servidores con Drupal pasando como parámetros:\n",
    "* cluster Percona\n",
    "* /var/www.html/drupal/sites/default\n",
    "* balanceador tcp al 80\n",
    "\n",
    "Ejecutamos:\n",
    "```\n",
    "heat stack-create test --template-file=drupal-heat-template.yaml\n",
    "```\n",
    "<img src=\"drupal_openstack.png\">"
   ]
  },
  {
   "cell_type": "markdown",
   "metadata": {
    "slideshow": {
     "slide_type": "slide"
    }
   },
   "source": [
    "## Si es tan bueno ¿porqué nadie lo usa?"
   ]
  },
  {
   "cell_type": "markdown",
   "metadata": {
    "slideshow": {
     "slide_type": "subslide"
    }
   },
   "source": [
    "### Inercia\n",
    "Tenemos unos procedimientos que están adaptados a una infraestructura no cloud.\n",
    "\n",
    "<img src=\"mascota.jpeg\">\n",
    "\n",
    "Tratamos a nuestros componentes como mascotas. Sabemos de que hay que hacer backup, que hay que monitorizar, que tienen instalado, ...\n"
   ]
  },
  {
   "cell_type": "markdown",
   "metadata": {
    "slideshow": {
     "slide_type": "subslide"
    }
   },
   "source": [
    "### Inercia\n",
    "¿Pero como gestionamos todas estas mascotas?\n",
    "\n",
    "<img src=\"101-Dalmatas.jpg\">\n",
    "\n",
    "¿Contratamos a un ejército de personas que les pongan nombre, las instalen, decidan de que hacer backup, que monitorizar, ...?"
   ]
  },
  {
   "cell_type": "markdown",
   "metadata": {},
   "source": [
    "### Inercia\n",
    "Si las tratamos como un rebaño solo hará falta un pastor\n",
    "<img src=\"rebanyo-ovejas.jpg\">"
   ]
  },
  {
   "cell_type": "markdown",
   "metadata": {
    "slideshow": {
     "slide_type": "subslide"
    }
   },
   "source": [
    "### Inversión\n",
    "“Hemos invertido muchos miles de euros en licencias y queremos amortizar nuestra inversión”.\n",
    "Si metemos la palabra “enterprise” dentro de la frase seguro que queda más guay ¿Licencias de Tecnología Enterprise?\n",
    "\n",
    "¿Que tal así?\n",
    "“Hemos realizado una gran inversión en Licencias de la Tecnología Enterprise líder en el mercado de la Virtualización cuyo periodo de amortización finaliza en 5 años.”"
   ]
  },
  {
   "cell_type": "markdown",
   "metadata": {
    "slideshow": {
     "slide_type": "fragment"
    }
   },
   "source": [
    "#### SOLUCIÓN\n",
    "¡OPENSTACK NO ES UN SISTEMA DE VIRTUALIZACIÓN!\n",
    "Sigue usando tu sistema de virtualización preferido y deja que lo gestione OpenStack así como el resto de tu infraestructura.\n"
   ]
  },
  {
   "cell_type": "markdown",
   "metadata": {
    "slideshow": {
     "slide_type": "slide"
    }
   },
   "source": [
    "### Complejidad de la infraestructura hardware\n",
    "Si se quiere hacer perfecto hace falta una infraestructura compleja.\n",
    "\n",
    "<img src=\"installguidearch-neutron-networks.png\">"
   ]
  },
  {
   "cell_type": "markdown",
   "metadata": {
    "slideshow": {
     "slide_type": "subslide"
    }
   },
   "source": [
    "¿Es necesaria la perfección para conseguir nuestros objetivos?"
   ]
  },
  {
   "cell_type": "markdown",
   "metadata": {
    "slideshow": {
     "slide_type": "slide"
    }
   },
   "source": [
    "### Complejidad de la infraestructura software\n",
    "La arquitectura de la plataforma está orientada a componentes que se comunican con peticiones al api o con mensajes por una cola.\n",
    "Hay muuuuuuuuchos componentes.\n",
    "\n",
    "<img src=\"installguidearch-neutron-services.png\">"
   ]
  },
  {
   "cell_type": "markdown",
   "metadata": {
    "slideshow": {
     "slide_type": "subslide"
    }
   },
   "source": [
    "¿Es realmente necesario conocer el detalle o podemos usar una distribución que te lo de todo?"
   ]
  },
  {
   "cell_type": "markdown",
   "metadata": {
    "slideshow": {
     "slide_type": "slide"
    }
   },
   "source": [
    "### Complejidad de las interacciones entre componentes\n",
    "Solo la autenticación para lanzar una máquina virtual supone todo este paso de mensajes ¡y todavía falta la parte de la creación!\n",
    "<img src=\"SCH_5002_V00_NUAC-Keystone.png\">"
   ]
  },
  {
   "cell_type": "markdown",
   "metadata": {
    "slideshow": {
     "slide_type": "subslide"
    }
   },
   "source": [
    "¿Sabemos lo que es un agregador de logs?"
   ]
  },
  {
   "cell_type": "markdown",
   "metadata": {
    "slideshow": {
     "slide_type": "slide"
    }
   },
   "source": [
    "### ¿Complejidad?\n",
    "Un gran poder conlleva una gran responsabilidad.\n",
    "\n",
    "El gran poder que supone poder ver las tripas de la aplicación no significa que tengamos que hacerlo.\n",
    "\n",
    "¿Que harías si ...\n",
    "* un desarrollador se niega a usar bases de datos porque no entiende como funcionan las tripas\n",
    "* un desarrollador se niega a utilizar un framework porque no le ha dado tiempo a ver como funcionan las tripas\n",
    "?\n",
    "\n",
    "¡Abstracción por favor!"
   ]
  },
  {
   "cell_type": "markdown",
   "metadata": {
    "slideshow": {
     "slide_type": "slide"
    }
   },
   "source": [
    "### Si, se puede\n",
    "Acabo de demostrar que una sola persona con un poco de tiempo puede desarrollar una distribución de OpenStack pero si no quieres pagar a alguien en tu empresa ¡paga a alguien fuera de ella!\n",
    "\n",
    "Hay multitud de empresas que ofrecen servicios alrededor de OpenStack."
   ]
  },
  {
   "cell_type": "markdown",
   "metadata": {
    "slideshow": {
     "slide_type": "slide"
    }
   },
   "source": [
    "### Oportunidades personales\n",
    "Hay mucho trabajo por hacer.\n",
    "Imágenes de Trove:\n",
    "* mysql\n",
    "* mongodb\n",
    "* percona\n",
    "\n",
    "¿Y el resto?\n",
    "\n",
    "¡La comunidad quiere que te hagas famoso!"
   ]
  },
  {
   "cell_type": "markdown",
   "metadata": {
    "slideshow": {
     "slide_type": "slide"
    }
   },
   "source": [
    "## ¿Qué es OpenShift?\n",
    "OpenShift es un PaaS: permite desplegar aplicaciones sin saber que hay por debajo."
   ]
  },
  {
   "cell_type": "markdown",
   "metadata": {},
   "source": [
    "## Ahora en serio ¿Qué es OpenShift?"
   ]
  },
  {
   "cell_type": "markdown",
   "metadata": {
    "slideshow": {
     "slide_type": "fragment"
    }
   },
   "source": [
    "* Masters: son gestores puros de la infraestructura"
   ]
  },
  {
   "cell_type": "markdown",
   "metadata": {
    "slideshow": {
     "slide_type": "fragment"
    }
   },
   "source": [
    "* Nodos (Minions molaba más): son los que realmente levantan las aplicaciones"
   ]
  },
  {
   "cell_type": "markdown",
   "metadata": {
    "slideshow": {
     "slide_type": "subslide"
    }
   },
   "source": [
    "### ¿Qué necesita OpenShift de la infraestructura?\n",
    "#### ¿Si no necesitamos un entorno de producción?\n",
    "* Una sola instancia"
   ]
  },
  {
   "cell_type": "markdown",
   "metadata": {
    "slideshow": {
     "slide_type": "fragment"
    }
   },
   "source": [
    "#### Para un entorno de producción\n",
    "* DNS: No es suficiente con /etc/hosts\n",
    "* Balanceador para Masters: Tráfico de gestión\n",
    "* Balanceador para Nodos: Tráfico hacia nuestras aplicaciones\n",
    "* Instancias: Para desplegar OpenShift\n",
    "* Almacenamiento persistente: Para algunos componentes de OpenShift y nuestras aplicaciones\n",
    "<img src=\"arquitectura_openshift.png\">"
   ]
  },
  {
   "cell_type": "markdown",
   "metadata": {
    "slideshow": {
     "slide_type": "subslide"
    }
   },
   "source": [
    "###Despliegue con Heat de la infraestructura.\n",
    "Usando heat:\n",
    "```\n",
    "heat stack-create test --template-file=openshift-heat-template.yaml\n",
    "```\n",
    "\n"
   ]
  },
  {
   "cell_type": "markdown",
   "metadata": {
    "slideshow": {
     "slide_type": "fragment"
    }
   },
   "source": [
    "¡RedHat proporciona la suya!"
   ]
  },
  {
   "cell_type": "markdown",
   "metadata": {
    "slideshow": {
     "slide_type": "subslide"
    }
   },
   "source": [
    "#### Inventario y despliegue."
   ]
  },
  {
   "cell_type": "markdown",
   "metadata": {
    "slideshow": {
     "slide_type": "fragment"
    }
   },
   "source": [
    "No da tiempo. :-("
   ]
  },
  {
   "cell_type": "markdown",
   "metadata": {
    "slideshow": {
     "slide_type": "fragment"
    }
   },
   "source": [
    "Así que haremos trampa. ;-)"
   ]
  },
  {
   "cell_type": "markdown",
   "metadata": {
    "slideshow": {
     "slide_type": "subslide"
    }
   },
   "source": [
    "### Tu aplicación probablemente necesite:\n",
    "* JVM | Ruby | Python | ...\n",
    "* Bases de datos\n",
    "* Almacenamiento persistente"
   ]
  },
  {
   "cell_type": "markdown",
   "metadata": {
    "slideshow": {
     "slide_type": "fragment"
    }
   },
   "source": [
    "#### Despliegue\n",
    "```\n",
    "oc create -f drupal-openshift-pv.yaml\n",
    "oc new-app -f drupal-openshift-persistent-template.yaml -p DRUPAL_HOSTNAME=drupal.jmferrer.os.paradigmadigital.com\n",
    "```\n",
    "Cambiar DNS a 192.168.42.174 ."
   ]
  },
  {
   "cell_type": "markdown",
   "metadata": {
    "slideshow": {
     "slide_type": "slide"
    }
   },
   "source": [
    "### Vacas sagradas\n",
    "Esta tecnología no se toca:\n",
    "<img src=\"vaca-sagrada.jpg\">"
   ]
  },
  {
   "cell_type": "markdown",
   "metadata": {
    "slideshow": {
     "slide_type": "subslide"
    }
   },
   "source": [
    "Tecnología disruptiva hace que las personas que no sepan manejarla se queden fuera del mercado laboral"
   ]
  },
  {
   "cell_type": "markdown",
   "metadata": {},
   "source": [
    "## Qué es OpenShift\n",
    "Son varias capas:\n",
    "* Linux\n",
    "* Contenedores, cgroups, ...\n",
    "* Docker\n",
    "* Kubernetes\n",
    "* OpenShift"
   ]
  },
  {
   "cell_type": "markdown",
   "metadata": {
    "slideshow": {
     "slide_type": "slide"
    }
   },
   "source": [
    "## ¿Qué es cloud?\n",
    "En muchas empresas ¡depende de a quien le preguntes!"
   ]
  },
  {
   "cell_type": "markdown",
   "metadata": {
    "slideshow": {
     "slide_type": "fragment"
    }
   },
   "source": [
    "* Para el desarrollador: algo que me permite hacer lo que el sysadmin sin tener que aguantarle."
   ]
  },
  {
   "cell_type": "markdown",
   "metadata": {
    "slideshow": {
     "slide_type": "fragment"
    }
   },
   "source": [
    "* Para el contable: algo que me permite meter un coste como inversión en vez de como gasto y me desgrava en hacienda."
   ]
  },
  {
   "cell_type": "markdown",
   "metadata": {
    "slideshow": {
     "slide_type": "fragment"
    }
   },
   "source": [
    "\n",
    "* Para el sysadmin: lo que va a externalizar todo y me va a dejar sin trabajo.\n"
   ]
  },
  {
   "cell_type": "markdown",
   "metadata": {
    "slideshow": {
     "slide_type": "fragment"
    }
   },
   "source": [
    "* Para el jefe: … productividad … unicornios … eficiencia … hadas … modernidad … magia …"
   ]
  },
  {
   "cell_type": "markdown",
   "metadata": {
    "slideshow": {
     "slide_type": "fragment"
    }
   },
   "source": [
    "### *¡No es ninguna de esas cosas!*"
   ]
  }
 ],
 "metadata": {
  "celltoolbar": "Slideshow",
  "kernelspec": {
   "display_name": "Python 2",
   "language": "python",
   "name": "python2"
  },
  "language_info": {
   "codemirror_mode": {
    "name": "ipython",
    "version": 2
   },
   "file_extension": ".py",
   "mimetype": "text/x-python",
   "name": "python",
   "nbconvert_exporter": "python",
   "pygments_lexer": "ipython2",
   "version": "2.7.12"
  }
 },
 "nbformat": 4,
 "nbformat_minor": 1
}
